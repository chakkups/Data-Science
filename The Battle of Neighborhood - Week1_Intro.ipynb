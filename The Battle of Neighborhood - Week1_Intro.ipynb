{
 "cells": [
  {
   "cell_type": "markdown",
   "metadata": {
    "collapsed": true
   },
   "source": [
    "# Introduction"
   ]
  },
  {
   "cell_type": "markdown",
   "metadata": {},
   "source": [
    "This is a Capstone project wherein am trying to find a s uitable place in Newyork City to open a ne restaurant. The city is filled with variety of people and it has all types of cuisines. The below link describes the various cuisines in New york and which neighborhood serves what cuisine.\n",
    "\n",
    "https://en.wikipedia.org/wiki/Cuisine_of_New_York_City\n",
    "\n",
    "We will restrict our report to the top 3 neighborhoods which favours the opening of new restaurant"
   ]
  },
  {
   "cell_type": "markdown",
   "metadata": {},
   "source": [
    "# Business Problem"
   ]
  },
  {
   "cell_type": "markdown",
   "metadata": {},
   "source": [
    "Newyork city has a diverse population and serves as a Global hub for many industries. It has people from all over the world and have a different taste when comes to tasting a food. It already has a lot of restaurants which are famous and satisfied the people in Newyork. So starting a new restaurant in the area where we have established restaurants invovles lot of analysis.\n",
    "\n",
    "Few of the critical things that we need to consider before opening up a restaurant is \n",
    "\n",
    "NY demographics\n",
    "Population\n",
    "Cuisines served\n",
    "Competitors in the area\n",
    "Unexplored horizon\n",
    "Nearby venues that favours the opening of new restaurant\n",
    "Nearby Markets"
   ]
  },
  {
   "cell_type": "markdown",
   "metadata": {},
   "source": [
    "# Target Audience"
   ]
  },
  {
   "cell_type": "markdown",
   "metadata": {},
   "source": [
    "Anyone who wants to open a new restaurant in NY city"
   ]
  },
  {
   "cell_type": "code",
   "execution_count": null,
   "metadata": {},
   "outputs": [],
   "source": []
  }
 ],
 "metadata": {
  "kernelspec": {
   "display_name": "Python 3.6",
   "language": "python",
   "name": "python3"
  },
  "language_info": {
   "codemirror_mode": {
    "name": "ipython",
    "version": 3
   },
   "file_extension": ".py",
   "mimetype": "text/x-python",
   "name": "python",
   "nbconvert_exporter": "python",
   "pygments_lexer": "ipython3",
   "version": "3.6.8"
  }
 },
 "nbformat": 4,
 "nbformat_minor": 1
}
