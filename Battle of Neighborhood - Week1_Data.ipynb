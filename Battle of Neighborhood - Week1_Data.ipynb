{
 "cells": [
  {
   "cell_type": "markdown",
   "metadata": {
    "collapsed": true
   },
   "source": [
    "# Data Section"
   ]
  },
  {
   "cell_type": "markdown",
   "metadata": {},
   "source": [
    "Since we have taken New york city for our analysis. The following datasets will be used ot get the required data that will help us in completing the project.\n",
    "\n",
    "https://cocl.us/new_york_dataset - NY neighborhood and Borough data\n",
    "\n",
    "https://en.wikipedia.org/wiki/Cuisine_of_New_York_City - Cuisines of NY city\n",
    "\n",
    "Coordinates from Foursquare API to explore the neighborhoods of NY city"
   ]
  },
  {
   "cell_type": "code",
   "execution_count": null,
   "metadata": {},
   "outputs": [],
   "source": []
  }
 ],
 "metadata": {
  "kernelspec": {
   "display_name": "Python 3.6",
   "language": "python",
   "name": "python3"
  },
  "language_info": {
   "codemirror_mode": {
    "name": "ipython",
    "version": 3
   },
   "file_extension": ".py",
   "mimetype": "text/x-python",
   "name": "python",
   "nbconvert_exporter": "python",
   "pygments_lexer": "ipython3",
   "version": "3.6.8"
  }
 },
 "nbformat": 4,
 "nbformat_minor": 1
}
